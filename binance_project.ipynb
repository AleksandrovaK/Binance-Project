{
 "cells": [
  {
   "cell_type": "markdown",
   "id": "8c4d10ac",
   "metadata": {},
   "source": [
    "# Libraries"
   ]
  },
  {
   "cell_type": "code",
   "execution_count": 1,
   "id": "f2006139",
   "metadata": {},
   "outputs": [],
   "source": [
    "import pandas as pd\n",
    "import numpy as np\n",
    "from binance.client import Client\n",
    "import websocket\n",
    "import json\n",
    "import threading\n",
    "import time\n",
    "from datetime import datetime"
   ]
  },
  {
   "cell_type": "markdown",
   "id": "2c99e3de",
   "metadata": {},
   "source": [
    "# 1. Extract"
   ]
  },
  {
   "cell_type": "markdown",
   "id": "a1cac7c7",
   "metadata": {},
   "source": [
    "Websocket"
   ]
  },
  {
   "cell_type": "code",
   "execution_count": 2,
   "id": "faecfa24",
   "metadata": {
    "scrolled": false
   },
   "outputs": [
    {
     "name": "stdout",
     "output_type": "stream",
     "text": [
      "Error: 'k'\n"
     ]
    }
   ],
   "source": [
    "# Shared state\n",
    "price_websocket = None\n",
    "\n",
    "def on_message(ws, message):\n",
    "    global price_websocket\n",
    "    data = json.loads(message)\n",
    "    wdata = data['k']\n",
    "    price = float(wdata['c'])\n",
    "    price_websocket = price\n",
    "\n",
    "def on_open(ws):\n",
    "    payload = {\"method\": \"SUBSCRIBE\",\n",
    "            \"params\": [\"btcusdt@kline_1s\"],\n",
    "               \"id\": 1}\n",
    "    ws.send(json.dumps(payload))\n",
    "def on_error(ws, error):\n",
    "    print(\"Error:\", error)\n",
    "\n",
    "def on_close(ws, close_status, close_message):\n",
    "    print(\"WebSocket closed\")\n",
    "\n",
    "def get_websocket_data():\n",
    "    ws = websocket.WebSocketApp(\"wss://stream.binance.com:9443/ws\",\n",
    "                                on_open=on_open,\n",
    "                                on_message=on_message,\n",
    "                                on_error=on_error,\n",
    "                                on_close=on_close )\n",
    "    ws.run_forever()\n",
    "\n",
    "\n",
    "thread = threading.Thread(target=get_websocket_data, daemon = True)\n",
    "thread.start()\n",
    "\n",
    "main_df = pd.DataFrame(columns=[\"timestamp\", \"price_websocket\"])\n",
    "for i in range(100):\n",
    "    timestamp = datetime.utcnow().replace(microsecond=0)\n",
    "    main_df = pd.concat([main_df, pd.DataFrame([{\"timestamp\": timestamp, \"price_websocket\": price_websocket}])], ignore_index=True)\n",
    "    time.sleep(1)"
   ]
  },
  {
   "cell_type": "markdown",
   "id": "9cb3b332",
   "metadata": {},
   "source": [
    "API"
   ]
  },
  {
   "cell_type": "code",
   "execution_count": 3,
   "id": "21e17090",
   "metadata": {
    "scrolled": false
   },
   "outputs": [],
   "source": [
    "api_key = \"S0su5HSh9NeSfo9hD0r8LWSoxqX2LvgNa2QmlonmkQblmOonsktOogczff6SDi01\"\n",
    "api_secret = \"bWrYTb4bVYIA8AVSTjyeZzOOzRMjnX2L9c5PwrHD3am1639QMpLBk9klU9pULA6x\"\n",
    "\n",
    "client = Client(api_key, api_secret)\n",
    "\n",
    "def get_historical_klines(symbol, interval, lookback):\n",
    "    try:\n",
    "        klines = client.get_historical_klines(symbol, interval, lookback)\n",
    "        raw_df = pd.DataFrame(klines, columns = [\n",
    "            \"timestamp\", \"open\", \"high\", \"low\", \"close\", \"volume\",\n",
    "            \"close_time\", \"quote_asset_volume\", \"number_of_trades\", \"taker_buy_base_asset_volume\",\n",
    "            \"taker_buy_quote_asset_volume\", \"ignore\"\n",
    "        ])\n",
    "        raw_df = raw_df[[\"timestamp\", \"close\"]]\n",
    "        raw_df[\"timestamp\"] = pd.to_datetime(raw_df[\"timestamp\"], unit = \"ms\")\n",
    "        raw_df.set_index(\"timestamp\", inplace = True)\n",
    "        raw_df = raw_df.astype(float)\n",
    "        return raw_df\n",
    "    except Exception as e:\n",
    "        raise Exception(f\"Error\")\n",
    "\n",
    "symbol = \"BTCUSDT\"\n",
    "interval = \"1s\"\n",
    "lookback = \"100 sec ago UTC\"\n",
    "\n",
    "raw_df = get_historical_klines(symbol, interval, lookback)\n",
    "raw_df.columns = ['price_rest']"
   ]
  },
  {
   "cell_type": "code",
   "execution_count": 4,
   "id": "cd238819",
   "metadata": {},
   "outputs": [
    {
     "data": {
      "text/html": [
       "<div>\n",
       "<style scoped>\n",
       "    .dataframe tbody tr th:only-of-type {\n",
       "        vertical-align: middle;\n",
       "    }\n",
       "\n",
       "    .dataframe tbody tr th {\n",
       "        vertical-align: top;\n",
       "    }\n",
       "\n",
       "    .dataframe thead th {\n",
       "        text-align: right;\n",
       "    }\n",
       "</style>\n",
       "<table border=\"1\" class=\"dataframe\">\n",
       "  <thead>\n",
       "    <tr style=\"text-align: right;\">\n",
       "      <th></th>\n",
       "      <th>timestamp</th>\n",
       "      <th>price_rest</th>\n",
       "      <th>price_websocket</th>\n",
       "    </tr>\n",
       "  </thead>\n",
       "  <tbody>\n",
       "    <tr>\n",
       "      <th>0</th>\n",
       "      <td>2025-05-02 19:49:13</td>\n",
       "      <td>96788.01</td>\n",
       "      <td>96788.01</td>\n",
       "    </tr>\n",
       "    <tr>\n",
       "      <th>1</th>\n",
       "      <td>2025-05-02 19:49:14</td>\n",
       "      <td>96788.00</td>\n",
       "      <td>96788.01</td>\n",
       "    </tr>\n",
       "    <tr>\n",
       "      <th>2</th>\n",
       "      <td>2025-05-02 19:49:15</td>\n",
       "      <td>96788.00</td>\n",
       "      <td>96788.00</td>\n",
       "    </tr>\n",
       "    <tr>\n",
       "      <th>3</th>\n",
       "      <td>2025-05-02 19:49:16</td>\n",
       "      <td>96788.00</td>\n",
       "      <td>96788.00</td>\n",
       "    </tr>\n",
       "    <tr>\n",
       "      <th>4</th>\n",
       "      <td>2025-05-02 19:49:17</td>\n",
       "      <td>96788.00</td>\n",
       "      <td>96788.00</td>\n",
       "    </tr>\n",
       "    <tr>\n",
       "      <th>...</th>\n",
       "      <td>...</td>\n",
       "      <td>...</td>\n",
       "      <td>...</td>\n",
       "    </tr>\n",
       "    <tr>\n",
       "      <th>93</th>\n",
       "      <td>2025-05-02 19:50:47</td>\n",
       "      <td>96805.00</td>\n",
       "      <td>96805.00</td>\n",
       "    </tr>\n",
       "    <tr>\n",
       "      <th>94</th>\n",
       "      <td>2025-05-02 19:50:48</td>\n",
       "      <td>96805.01</td>\n",
       "      <td>96805.00</td>\n",
       "    </tr>\n",
       "    <tr>\n",
       "      <th>95</th>\n",
       "      <td>2025-05-02 19:50:49</td>\n",
       "      <td>96805.00</td>\n",
       "      <td>96805.01</td>\n",
       "    </tr>\n",
       "    <tr>\n",
       "      <th>96</th>\n",
       "      <td>2025-05-02 19:50:50</td>\n",
       "      <td>96805.01</td>\n",
       "      <td>96805.00</td>\n",
       "    </tr>\n",
       "    <tr>\n",
       "      <th>97</th>\n",
       "      <td>2025-05-02 19:50:51</td>\n",
       "      <td>96805.01</td>\n",
       "      <td>96805.01</td>\n",
       "    </tr>\n",
       "  </tbody>\n",
       "</table>\n",
       "<p>98 rows × 3 columns</p>\n",
       "</div>"
      ],
      "text/plain": [
       "             timestamp  price_rest  price_websocket\n",
       "0  2025-05-02 19:49:13    96788.01         96788.01\n",
       "1  2025-05-02 19:49:14    96788.00         96788.01\n",
       "2  2025-05-02 19:49:15    96788.00         96788.00\n",
       "3  2025-05-02 19:49:16    96788.00         96788.00\n",
       "4  2025-05-02 19:49:17    96788.00         96788.00\n",
       "..                 ...         ...              ...\n",
       "93 2025-05-02 19:50:47    96805.00         96805.00\n",
       "94 2025-05-02 19:50:48    96805.01         96805.00\n",
       "95 2025-05-02 19:50:49    96805.00         96805.01\n",
       "96 2025-05-02 19:50:50    96805.01         96805.00\n",
       "97 2025-05-02 19:50:51    96805.01         96805.01\n",
       "\n",
       "[98 rows x 3 columns]"
      ]
     },
     "execution_count": 4,
     "metadata": {},
     "output_type": "execute_result"
    }
   ],
   "source": [
    "btc_df = raw_df.merge(main_df, on='timestamp')\n",
    "btc_df"
   ]
  }
 ],
 "metadata": {
  "kernelspec": {
   "display_name": "Python 3 (ipykernel)",
   "language": "python",
   "name": "python3"
  },
  "language_info": {
   "codemirror_mode": {
    "name": "ipython",
    "version": 3
   },
   "file_extension": ".py",
   "mimetype": "text/x-python",
   "name": "python",
   "nbconvert_exporter": "python",
   "pygments_lexer": "ipython3",
   "version": "3.9.13"
  }
 },
 "nbformat": 4,
 "nbformat_minor": 5
}
